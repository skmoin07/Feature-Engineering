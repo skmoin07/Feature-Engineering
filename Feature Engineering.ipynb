{
 "cells": [
  {
   "cell_type": "markdown",
   "id": "c3f1527d",
   "metadata": {},
   "source": [
    "# Univariate Selection"
   ]
  },
  {
   "cell_type": "code",
   "execution_count": 14,
   "id": "d7510456",
   "metadata": {},
   "outputs": [],
   "source": [
    "import  pandas as pd\n",
    "from numpy import  set_printoptions\n",
    "from sklearn.feature_selection import SelectKBest\n",
    "from sklearn.feature_selection import chi2"
   ]
  },
  {
   "cell_type": "code",
   "execution_count": 2,
   "id": "b4b3d510",
   "metadata": {},
   "outputs": [],
   "source": [
    "from pandas import read_csv"
   ]
  },
  {
   "cell_type": "code",
   "execution_count": 5,
   "id": "34f335d2",
   "metadata": {},
   "outputs": [],
   "source": [
    "filename='pima.csv'\n",
    "names=['preg','plas','pres','skin','test','mass','pedi','age','class']"
   ]
  },
  {
   "cell_type": "code",
   "execution_count": 8,
   "id": "58930771",
   "metadata": {},
   "outputs": [],
   "source": [
    "dataframe=read_csv(filename,names=names)\n"
   ]
  },
  {
   "cell_type": "code",
   "execution_count": 10,
   "id": "008e1c8d",
   "metadata": {},
   "outputs": [],
   "source": [
    "array=dataframe.values\n",
    "X=array[:,0:8]\n",
    "Y=array[:,8]"
   ]
  },
  {
   "cell_type": "code",
   "execution_count": 11,
   "id": "5d45b07c",
   "metadata": {},
   "outputs": [],
   "source": [
    "#feature extraction\n",
    "test=SelectKBest(score_func=chi2,k=4)\n",
    "fit=test.fit(X,Y)"
   ]
  },
  {
   "cell_type": "code",
   "execution_count": 15,
   "id": "635898b3",
   "metadata": {},
   "outputs": [
    {
     "name": "stdout",
     "output_type": "stream",
     "text": [
      "[ 111.52  1411.887   17.605   53.108 2175.565  127.669    5.393  181.304]\n"
     ]
    }
   ],
   "source": [
    "#SUMMARIZE SCORE\n",
    "set_printoptions(precision=3)\n",
    "print(fit.scores_)\n",
    "features=fit.transform(X)"
   ]
  },
  {
   "cell_type": "markdown",
   "id": "0ab6caf8",
   "metadata": {},
   "source": [
    "# RFE"
   ]
  },
  {
   "cell_type": "code",
   "execution_count": 21,
   "id": "4c68499a",
   "metadata": {},
   "outputs": [],
   "source": [
    "from sklearn.feature_selection import RFE \n",
    "from sklearn.linear_model import LogisticRegression"
   ]
  },
  {
   "cell_type": "code",
   "execution_count": 22,
   "id": "bd29b2bf",
   "metadata": {},
   "outputs": [
    {
     "name": "stderr",
     "output_type": "stream",
     "text": [
      "C:\\Users\\ASUS\\anaconda3\\lib\\site-packages\\sklearn\\utils\\validation.py:70: FutureWarning: Pass n_features_to_select=3 as keyword args. From version 1.0 (renaming of 0.25) passing these as positional arguments will result in an error\n",
      "  warnings.warn(f\"Pass {args_msg} as keyword args. From version \"\n"
     ]
    }
   ],
   "source": [
    "#feature extraction\n",
    "model=LogisticRegression(max_iter=400)\n",
    "rfe=RFE(model,3)\n",
    "fir=rfe.fit(X,Y)"
   ]
  },
  {
   "cell_type": "markdown",
   "id": "865fe600",
   "metadata": {},
   "source": [
    "# Feature importance  using Decision Trees"
   ]
  },
  {
   "cell_type": "code",
   "execution_count": 25,
   "id": "de1514bd",
   "metadata": {},
   "outputs": [],
   "source": [
    "from sklearn.tree import DecisionTreeClassifier"
   ]
  },
  {
   "cell_type": "code",
   "execution_count": 26,
   "id": "ec57b8cc",
   "metadata": {},
   "outputs": [
    {
     "name": "stdout",
     "output_type": "stream",
     "text": [
      "[0.053 0.308 0.096 0.037 0.041 0.226 0.128 0.112]\n"
     ]
    }
   ],
   "source": [
    "#feature extraction\n",
    "model=DecisionTreeClassifier()\n",
    "model.fit(X,Y)\n",
    "print(model.feature_importances_)"
   ]
  },
  {
   "cell_type": "code",
   "execution_count": null,
   "id": "2e87e871",
   "metadata": {},
   "outputs": [],
   "source": []
  }
 ],
 "metadata": {
  "kernelspec": {
   "display_name": "Python 3",
   "language": "python",
   "name": "python3"
  },
  "language_info": {
   "codemirror_mode": {
    "name": "ipython",
    "version": 3
   },
   "file_extension": ".py",
   "mimetype": "text/x-python",
   "name": "python",
   "nbconvert_exporter": "python",
   "pygments_lexer": "ipython3",
   "version": "3.8.8"
  }
 },
 "nbformat": 4,
 "nbformat_minor": 5
}
